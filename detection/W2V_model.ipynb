{
  "nbformat": 4,
  "nbformat_minor": 0,
  "metadata": {
    "colab": {
      "name": "W2V_model.ipynb",
      "provenance": [],
      "collapsed_sections": []
    },
    "kernelspec": {
      "name": "python3",
      "display_name": "Python 3.8.5 64-bit ('env_cpb': conda)",
      "metadata": {
        "interpreter": {
          "hash": "6e562eb495edbd98b4705d13b4dc4f4058fca01d43484b094130bc2fb66d6fcd"
        }
      }
    },
    "widgets": {
      "application/vnd.jupyter.widget-state+json": {
        "18f61f9c40ab41708e2de95636ea07ea": {
          "model_module": "@jupyter-widgets/controls",
          "model_name": "HBoxModel",
          "state": {
            "_view_name": "HBoxView",
            "_dom_classes": [],
            "_model_name": "HBoxModel",
            "_view_module": "@jupyter-widgets/controls",
            "_model_module_version": "1.5.0",
            "_view_count": null,
            "_view_module_version": "1.5.0",
            "box_style": "",
            "layout": "IPY_MODEL_a2db12ec6ab74d16b9015a267e16c4da",
            "_model_module": "@jupyter-widgets/controls",
            "children": [
              "IPY_MODEL_cce555ba1f30466988d795b02c375c19",
              "IPY_MODEL_fd79513a810f4207aceac07c3f32c8f0"
            ]
          }
        },
        "a2db12ec6ab74d16b9015a267e16c4da": {
          "model_module": "@jupyter-widgets/base",
          "model_name": "LayoutModel",
          "state": {
            "_view_name": "LayoutView",
            "grid_template_rows": null,
            "right": null,
            "justify_content": null,
            "_view_module": "@jupyter-widgets/base",
            "overflow": null,
            "_model_module_version": "1.2.0",
            "_view_count": null,
            "flex_flow": null,
            "width": null,
            "min_width": null,
            "border": null,
            "align_items": null,
            "bottom": null,
            "_model_module": "@jupyter-widgets/base",
            "top": null,
            "grid_column": null,
            "overflow_y": null,
            "overflow_x": null,
            "grid_auto_flow": null,
            "grid_area": null,
            "grid_template_columns": null,
            "flex": null,
            "_model_name": "LayoutModel",
            "justify_items": null,
            "grid_row": null,
            "max_height": null,
            "align_content": null,
            "visibility": null,
            "align_self": null,
            "height": null,
            "min_height": null,
            "padding": null,
            "grid_auto_rows": null,
            "grid_gap": null,
            "max_width": null,
            "order": null,
            "_view_module_version": "1.2.0",
            "grid_template_areas": null,
            "object_position": null,
            "object_fit": null,
            "grid_auto_columns": null,
            "margin": null,
            "display": null,
            "left": null
          }
        },
        "cce555ba1f30466988d795b02c375c19": {
          "model_module": "@jupyter-widgets/controls",
          "model_name": "FloatProgressModel",
          "state": {
            "_view_name": "ProgressView",
            "style": "IPY_MODEL_67e0e9a476e04286bdb20855b35c8e56",
            "_dom_classes": [],
            "description": "100%",
            "_model_name": "FloatProgressModel",
            "bar_style": "success",
            "max": 5682,
            "_view_module": "@jupyter-widgets/controls",
            "_model_module_version": "1.5.0",
            "value": 5682,
            "_view_count": null,
            "_view_module_version": "1.5.0",
            "orientation": "horizontal",
            "min": 0,
            "description_tooltip": null,
            "_model_module": "@jupyter-widgets/controls",
            "layout": "IPY_MODEL_4221eb5f9c4044739de392c96356b75c"
          }
        },
        "fd79513a810f4207aceac07c3f32c8f0": {
          "model_module": "@jupyter-widgets/controls",
          "model_name": "HTMLModel",
          "state": {
            "_view_name": "HTMLView",
            "style": "IPY_MODEL_172f9212378c4bc18a9bfe635fb1972a",
            "_dom_classes": [],
            "description": "",
            "_model_name": "HTMLModel",
            "placeholder": "​",
            "_view_module": "@jupyter-widgets/controls",
            "_model_module_version": "1.5.0",
            "value": " 5682/5682 [00:00&lt;00:00, 60906.32it/s]",
            "_view_count": null,
            "_view_module_version": "1.5.0",
            "description_tooltip": null,
            "_model_module": "@jupyter-widgets/controls",
            "layout": "IPY_MODEL_57e4af7c0e1e4e1eb762f4b40a03288e"
          }
        },
        "67e0e9a476e04286bdb20855b35c8e56": {
          "model_module": "@jupyter-widgets/controls",
          "model_name": "ProgressStyleModel",
          "state": {
            "_view_name": "StyleView",
            "_model_name": "ProgressStyleModel",
            "description_width": "initial",
            "_view_module": "@jupyter-widgets/base",
            "_model_module_version": "1.5.0",
            "_view_count": null,
            "_view_module_version": "1.2.0",
            "bar_color": null,
            "_model_module": "@jupyter-widgets/controls"
          }
        },
        "4221eb5f9c4044739de392c96356b75c": {
          "model_module": "@jupyter-widgets/base",
          "model_name": "LayoutModel",
          "state": {
            "_view_name": "LayoutView",
            "grid_template_rows": null,
            "right": null,
            "justify_content": null,
            "_view_module": "@jupyter-widgets/base",
            "overflow": null,
            "_model_module_version": "1.2.0",
            "_view_count": null,
            "flex_flow": null,
            "width": null,
            "min_width": null,
            "border": null,
            "align_items": null,
            "bottom": null,
            "_model_module": "@jupyter-widgets/base",
            "top": null,
            "grid_column": null,
            "overflow_y": null,
            "overflow_x": null,
            "grid_auto_flow": null,
            "grid_area": null,
            "grid_template_columns": null,
            "flex": null,
            "_model_name": "LayoutModel",
            "justify_items": null,
            "grid_row": null,
            "max_height": null,
            "align_content": null,
            "visibility": null,
            "align_self": null,
            "height": null,
            "min_height": null,
            "padding": null,
            "grid_auto_rows": null,
            "grid_gap": null,
            "max_width": null,
            "order": null,
            "_view_module_version": "1.2.0",
            "grid_template_areas": null,
            "object_position": null,
            "object_fit": null,
            "grid_auto_columns": null,
            "margin": null,
            "display": null,
            "left": null
          }
        },
        "172f9212378c4bc18a9bfe635fb1972a": {
          "model_module": "@jupyter-widgets/controls",
          "model_name": "DescriptionStyleModel",
          "state": {
            "_view_name": "StyleView",
            "_model_name": "DescriptionStyleModel",
            "description_width": "",
            "_view_module": "@jupyter-widgets/base",
            "_model_module_version": "1.5.0",
            "_view_count": null,
            "_view_module_version": "1.2.0",
            "_model_module": "@jupyter-widgets/controls"
          }
        },
        "57e4af7c0e1e4e1eb762f4b40a03288e": {
          "model_module": "@jupyter-widgets/base",
          "model_name": "LayoutModel",
          "state": {
            "_view_name": "LayoutView",
            "grid_template_rows": null,
            "right": null,
            "justify_content": null,
            "_view_module": "@jupyter-widgets/base",
            "overflow": null,
            "_model_module_version": "1.2.0",
            "_view_count": null,
            "flex_flow": null,
            "width": null,
            "min_width": null,
            "border": null,
            "align_items": null,
            "bottom": null,
            "_model_module": "@jupyter-widgets/base",
            "top": null,
            "grid_column": null,
            "overflow_y": null,
            "overflow_x": null,
            "grid_auto_flow": null,
            "grid_area": null,
            "grid_template_columns": null,
            "flex": null,
            "_model_name": "LayoutModel",
            "justify_items": null,
            "grid_row": null,
            "max_height": null,
            "align_content": null,
            "visibility": null,
            "align_self": null,
            "height": null,
            "min_height": null,
            "padding": null,
            "grid_auto_rows": null,
            "grid_gap": null,
            "max_width": null,
            "order": null,
            "_view_module_version": "1.2.0",
            "grid_template_areas": null,
            "object_position": null,
            "object_fit": null,
            "grid_auto_columns": null,
            "margin": null,
            "display": null,
            "left": null
          }
        }
      }
    }
  },
  "cells": [
    {
      "cell_type": "code",
      "metadata": {
        "id": "rDgQKFJY8wQk"
      },
      "source": [
        "import torch\n",
        "import torch.nn as nn\n",
        "import torch.nn.functional as F\n",
        "from torch.optim import Adam\n",
        "\n",
        "from torchtext.data import Field \n",
        "from torchtext.data import Dataset, Example\n",
        "from torchtext.data import BucketIterator\n",
        "\n",
        "\n",
        "import pandas as pd\n",
        "from pandas import DataFrame\n",
        "import numpy as np"
      ],
      "execution_count": 1,
      "outputs": []
    },
    {
      "cell_type": "code",
      "metadata": {
        "colab": {
          "base_uri": "https://localhost:8080/"
        },
        "id": "kijIR8ek9LV8",
        "outputId": "df745cf2-3d4e-4893-b76e-bed7cc839830"
      },
      "source": [
        "DATA_PATH = \"../data/clean_dataset.csv\"\n",
        "df = pd.read_csv(DATA_PATH, index_col=False)\n",
        "df.info()"
      ],
      "execution_count": 2,
      "outputs": [
        {
          "output_type": "stream",
          "name": "stdout",
          "text": [
            "<class 'pandas.core.frame.DataFrame'>\nRangeIndex: 3562 entries, 0 to 3561\nData columns (total 2 columns):\n #   Column  Non-Null Count  Dtype \n---  ------  --------------  ----- \n 0   text    3562 non-null   object\n 1   label   3562 non-null   int64 \ndtypes: int64(1), object(1)\nmemory usage: 55.8+ KB\n"
          ]
        }
      ]
    },
    {
      "cell_type": "code",
      "metadata": {
        "colab": {
          "base_uri": "https://localhost:8080/"
        },
        "id": "en-ccTQK9U1c",
        "outputId": "1f5950c3-0f79-49ee-b4b6-03db23c9e64d"
      },
      "source": [
        "import spacy\n",
        "\n",
        "def tokenize(sentence):\n",
        "    sentence = sentence.strip()\n",
        "    sentence = sentence.lower()\n",
        "    sentence = sentence.replace(\"\\n\", \"\")\n",
        "    sentence = sentence.replace(r\"[^A-Za-z0-9()!?\\'\\`\\\"]\", \" \")\n",
        "    sentence = sentence.replace(\"\\s{2,}\", \" \")\n",
        "    sentence = sentence.replace(r\"@\",\"\")\n",
        "    sentence = sentence.replace(r\"http\\S+\",\"URL\")\n",
        "    sentence = sentence.replace(r\"\\#\",\"\")\n",
        "    return [tok.text for tok in en.tokenizer(sentence)]\n",
        "en = spacy.load(\"en_core_web_sm\")\n",
        "\n",
        "# find longest sentence\n",
        "\n",
        "MAX_LEN = 0\n",
        "for label, sentence in df.text.items():\n",
        "    _len = len([tok.text for tok in en.tokenizer(sentence)])\n",
        "    if MAX_LEN < _len:\n",
        "        MAX_LEN = _len\n",
        "print(MAX_LEN)\n",
        "\n",
        "TEXT = Field(\n",
        "    sequential=True,\n",
        "    tokenize=tokenize, \n",
        "    fix_length=MAX_LEN,\n",
        "    lower=True\n",
        ")\n",
        "\n",
        "LABEL = Field(sequential=False, use_vocab=False)"
      ],
      "execution_count": 3,
      "outputs": [
        {
          "output_type": "stream",
          "name": "stdout",
          "text": [
            "111\n"
          ]
        }
      ]
    },
    {
      "cell_type": "code",
      "metadata": {
        "id": "UYozY7ww-b00"
      },
      "source": [
        "import gensim\n",
        "w2v_model = gensim.models.word2vec.Word2Vec.load('../models/embeddings.txt')"
      ],
      "execution_count": 4,
      "outputs": []
    },
    {
      "cell_type": "code",
      "metadata": {
        "colab": {
          "base_uri": "https://localhost:8080/",
          "height": 121,
          "referenced_widgets": [
            "18f61f9c40ab41708e2de95636ea07ea",
            "a2db12ec6ab74d16b9015a267e16c4da",
            "cce555ba1f30466988d795b02c375c19",
            "fd79513a810f4207aceac07c3f32c8f0",
            "67e0e9a476e04286bdb20855b35c8e56",
            "4221eb5f9c4044739de392c96356b75c",
            "172f9212378c4bc18a9bfe635fb1972a",
            "57e4af7c0e1e4e1eb762f4b40a03288e"
          ]
        },
        "id": "lQlKqLgAAqvQ",
        "outputId": "34ee15fa-638a-44ce-d2ab-7d960983fadc"
      },
      "source": [
        "import torchtext\n",
        "\n",
        "W2V_SIZE = 300 \n",
        "MAX_LEN = 111\n",
        "dataset = torchtext.data.TabularDataset(\n",
        "path = DATA_PATH, format='csv',\n",
        "fields=[('text', TEXT),\n",
        "        ('label', LABEL)])\n",
        "\n",
        "TEXT.build_vocab(dataset)\n",
        "\n",
        "word2vec_vectors = []\n",
        "for token, idx in TEXT.vocab.stoi.items():\n",
        "    if token in w2v_model.wv.vocab.keys():\n",
        "        word2vec_vectors.append(torch.FloatTensor(w2v_model[token]))\n",
        "    else:\n",
        "        word2vec_vectors.append(torch.zeros(W2V_SIZE))\n",
        "TEXT.vocab.set_vectors(TEXT.vocab.stoi, word2vec_vectors, W2V_SIZE)"
      ],
      "execution_count": 5,
      "outputs": []
    },
    {
      "cell_type": "code",
      "metadata": {
        "colab": {
          "base_uri": "https://localhost:8080/"
        },
        "id": "_ujClDaBAyIf",
        "outputId": "9df8bafb-93e8-4df0-f17e-d8e20283c2eb"
      },
      "source": [
        "for i, r in df.iterrows():\n",
        "    print(list(r.values))\n",
        "    break"
      ],
      "execution_count": 6,
      "outputs": [
        {
          "output_type": "stream",
          "name": "stdout",
          "text": [
            "['could you find an image to use for <url> also?', 3]\n"
          ]
        }
      ]
    },
    {
      "cell_type": "code",
      "metadata": {
        "colab": {
          "base_uri": "https://localhost:8080/"
        },
        "id": "Xy-TSm-bOmmt",
        "outputId": "0792d571-a693-42ce-803c-afd8580f9256"
      },
      "source": [
        "ltoi = {l: i for i, l in enumerate(df['label'].unique())}\n",
        "df['label'] = df['label'].apply(lambda y: ltoi[y])\n",
        "print(df['label'])\n",
        "\n",
        "class DataFrameDataset(Dataset):\n",
        "    def __init__(self, df: pd.DataFrame, fields: list):\n",
        "        super(DataFrameDataset, self).__init__(\n",
        "            [\n",
        "                Example.fromlist(list(r), fields) \n",
        "                for i, r in df.iterrows()\n",
        "            ], \n",
        "            fields\n",
        "        )"
      ],
      "execution_count": 7,
      "outputs": [
        {
          "output_type": "stream",
          "name": "stdout",
          "text": [
            "0       0\n1       1\n2       2\n3       1\n4       1\n       ..\n3557    2\n3558    4\n3559    7\n3560    0\n3561    4\nName: label, Length: 3562, dtype: int64\n"
          ]
        }
      ]
    },
    {
      "cell_type": "code",
      "metadata": {
        "colab": {
          "base_uri": "https://localhost:8080/"
        },
        "id": "WeykXO77OuTc",
        "outputId": "0dcaaa67-ac98-4614-98cd-c054f68cf748"
      },
      "source": [
        "train_dataset, test_dataset = DataFrameDataset(\n",
        "    df=df, \n",
        "    fields=(\n",
        "        ('text', TEXT),\n",
        "        ('label', LABEL)\n",
        "    )\n",
        ").split(split_ratio=0.8)\n",
        "print(len(train_dataset))\n",
        "print(len(test_dataset))"
      ],
      "execution_count": 8,
      "outputs": [
        {
          "output_type": "stream",
          "name": "stdout",
          "text": [
            "2850\n712\n"
          ]
        }
      ]
    },
    {
      "cell_type": "code",
      "metadata": {
        "id": "xJ_IjQSUOwCb"
      },
      "source": [
        "train_iter, test_iter = BucketIterator.splits(\n",
        "    datasets=(train_dataset, test_dataset), \n",
        "    batch_sizes = (16, 8),\n",
        "    sort=False\n",
        ")"
      ],
      "execution_count": 9,
      "outputs": []
    },
    {
      "cell_type": "code",
      "metadata": {
        "id": "fy1mpa3hOyJB"
      },
      "source": [
        "class W2VParam(object):\n",
        "    def __init__(self, param_dict: dict = dict()):\n",
        "        self.input_size = param_dict.get('input_size')\n",
        "        self.vocab_size = param_dict.get('vocab_size')\n",
        "        self.embedding_dim = param_dict.get('embedding_dim', 300)\n",
        "        self.target_dim = param_dict.get('target_dim', 8)\n",
        "        \n",
        "class W2VModel(nn.Module):\n",
        "    def __init__(self, model_param: W2VParam):\n",
        "        super().__init__()\n",
        "        self.embedding = nn.Embedding(\n",
        "            model_param.vocab_size, \n",
        "            model_param.embedding_dim\n",
        "        )\n",
        "        self.lin = nn.Linear(\n",
        "            model_param.input_size * model_param.embedding_dim, \n",
        "            model_param.target_dim\n",
        "        )\n",
        "        \n",
        "    def forward(self, x):\n",
        "        features = self.embedding(x).view(x.size()[0], -1)\n",
        "        features = F.relu(features)\n",
        "        features = self.lin(features)\n",
        "        return features"
      ],
      "execution_count": 10,
      "outputs": []
    },
    {
      "cell_type": "code",
      "metadata": {
        "id": "1Oy46D53O1FW"
      },
      "source": [
        "class W2VModelWithPretrainedEmbedding(nn.Module):\n",
        "    def __init__(self, model_param: W2VParam, embedding):\n",
        "        super().__init__()\n",
        "        self.embedding = embedding\n",
        "        self.lin = nn.Linear(\n",
        "            model_param.input_size * model_param.embedding_dim, \n",
        "            model_param.target_dim\n",
        "        )\n",
        "        \n",
        "    def forward(self, x):\n",
        "        features = self.embedding[x].reshape(x.size()[0], -1)\n",
        "        features = F.relu(features)\n",
        "        features = self.lin(features)\n",
        "        return features"
      ],
      "execution_count": 11,
      "outputs": []
    },
    {
      "cell_type": "code",
      "metadata": {
        "id": "B35KU4n8KlkC"
      },
      "source": [
        "def calcuate_accu(big_idx, targets):\n",
        "    n_correct = (big_idx==targets).sum().item()\n",
        "    return n_correct"
      ],
      "execution_count": 12,
      "outputs": []
    },
    {
      "cell_type": "code",
      "metadata": {
        "colab": {
          "base_uri": "https://localhost:8080/"
        },
        "id": "rjO6xBWz_E9M",
        "outputId": "24871111-62f7-49bf-a3da-31017cfb9db0",
        "tags": []
      },
      "source": [
        "from torch import cuda\n",
        "import matplotlib.pyplot as plt\n",
        "\n",
        "device = \"cuda\" if cuda.is_available() else \"cpu\"\n",
        "\n",
        "model_param = W2VParam(\n",
        "    param_dict=dict(\n",
        "        vocab_size=len(TEXT.vocab),\n",
        "        input_size=MAX_LEN\n",
        "    )\n",
        ")\n",
        "print(len(TEXT.vocab))\n",
        "\n",
        "pre_trained_emb = torch.FloatTensor(TEXT.vocab.vectors)\n",
        "\n",
        "model = W2VModelWithPretrainedEmbedding(model_param, pre_trained_emb)\n",
        "loss_function = nn.CrossEntropyLoss()\n",
        "optimizer = Adam(model.parameters(), lr=0.01)\n",
        "epochs = 50\n",
        "\n",
        "\n",
        "epochs_loss_history = []\n",
        "epochs_accu_history = []\n",
        "\n",
        "def my_plot(epochs, sth):\n",
        "    plt.plot(epochs, sth)\n",
        "\n",
        "for epoch in range(epochs):\n",
        "    tr_loss = 0\n",
        "    n_correct = 0\n",
        "    nb_tr_steps = 0\n",
        "    nb_tr_examples = 0\n",
        "    epoch_losses = []\n",
        "    model.train()\n",
        "    for _, batch in enumerate(train_iter, 0):\n",
        "        targets = batch.label.to(device, dtype = torch.long)\n",
        "       \n",
        "        outputs = model(batch.text.T)\n",
        "        loss = loss_function(outputs, batch.label)\n",
        "        tr_loss += loss.item() \n",
        "        big_val, big_idx = torch.max(outputs.data, dim=1)\n",
        "        n_correct += calcuate_accu(big_idx, targets)\n",
        "\n",
        "        nb_tr_steps += 1\n",
        "        nb_tr_examples+=targets.size(0)\n",
        "\n",
        "        if _ % 1000 == 0:\n",
        "            loss_step = tr_loss/nb_tr_steps\n",
        "            accu_step = (n_correct * 100)/nb_tr_examples \n",
        "            print(f\"Training Loss per 1000 steps: {loss_step}\")\n",
        "            print(f\"Training Accuracy per 1000 steps: {accu_step}%\")\n",
        "\n",
        "        optimizer.zero_grad()\n",
        "        loss.backward()\n",
        "        optimizer.step()\n",
        "        \n",
        "    print(f'The Total Accuracy for Epoch {epoch}: {(n_correct * 100)/nb_tr_examples}')\n",
        "    epoch_loss = tr_loss/nb_tr_steps\n",
        "    epochs_loss_history.append(epoch_loss)\n",
        "    epoch_accu = (n_correct * 100)/nb_tr_examples\n",
        "    epochs_accu_history.append(epoch_accu)\n",
        "    print(f\"Training Loss Epoch: {epoch_loss}\")\n",
        "    print(f\"Training Accuracy Epoch: {epoch_accu}%\")\n",
        "    print(\"=====================\")\n",
        "\n",
        "df = DataFrame(epochs_loss_history, columns=['w2v_epochs_loss_history'])\n",
        "df[\"w2v_epochs_accu_history\"] = epochs_accu_history\n",
        "df.to_csv(\"../data/w2v_history.csv\", index=False)\n",
        "my_plot(range(epochs), epochs_loss_history)\n",
        "my_plot(range(epochs), epochs_accu_history)"
      ],
      "execution_count": 13,
      "outputs": [
        {
          "output_type": "stream",
          "name": "stdout",
          "text": [
            "5681\n",
            "Training Loss per 1000 steps: 2.0934696197509766\n",
            "Training Accuracy per 1000 steps: 12.5%\n",
            "The Total Accuracy for Epoch 0: 52.421052631578945\n",
            "Training Loss Epoch: 5.9669907372757045\n",
            "Training Accuracy Epoch: 52.421052631578945%\n",
            "=====================\n",
            "Training Loss per 1000 steps: 0.20463183522224426\n",
            "Training Accuracy per 1000 steps: 93.75%\n",
            "The Total Accuracy for Epoch 1: 80.91228070175438\n",
            "Training Loss Epoch: 1.7019677301023322\n",
            "Training Accuracy Epoch: 80.91228070175438%\n",
            "=====================\n",
            "Training Loss per 1000 steps: 1.977337121963501\n",
            "Training Accuracy per 1000 steps: 93.75%\n",
            "The Total Accuracy for Epoch 2: 85.57894736842105\n",
            "Training Loss Epoch: 1.0161751697675434\n",
            "Training Accuracy Epoch: 85.57894736842105%\n",
            "=====================\n",
            "Training Loss per 1000 steps: 0.7301115393638611\n",
            "Training Accuracy per 1000 steps: 87.5%\n",
            "The Total Accuracy for Epoch 3: 90.0\n",
            "Training Loss Epoch: 0.6236979693691265\n",
            "Training Accuracy Epoch: 90.0%\n",
            "=====================\n",
            "Training Loss per 1000 steps: 0.004239732399582863\n",
            "Training Accuracy per 1000 steps: 100.0%\n",
            "The Total Accuracy for Epoch 4: 92.80701754385964\n",
            "Training Loss Epoch: 0.4726259632897478\n",
            "Training Accuracy Epoch: 92.80701754385964%\n",
            "=====================\n",
            "Training Loss per 1000 steps: 1.7769289016723633\n",
            "Training Accuracy per 1000 steps: 93.75%\n",
            "The Total Accuracy for Epoch 5: 92.52631578947368\n",
            "Training Loss Epoch: 0.45930710805539837\n",
            "Training Accuracy Epoch: 92.52631578947368%\n",
            "=====================\n",
            "Training Loss per 1000 steps: 0.36404362320899963\n",
            "Training Accuracy per 1000 steps: 87.5%\n",
            "The Total Accuracy for Epoch 6: 95.29824561403508\n",
            "Training Loss Epoch: 0.2682702062103514\n",
            "Training Accuracy Epoch: 95.29824561403508%\n",
            "=====================\n",
            "Training Loss per 1000 steps: 0.0004260525165591389\n",
            "Training Accuracy per 1000 steps: 100.0%\n",
            "The Total Accuracy for Epoch 7: 96.24561403508773\n",
            "Training Loss Epoch: 0.2527740369690706\n",
            "Training Accuracy Epoch: 96.24561403508773%\n",
            "=====================\n",
            "Training Loss per 1000 steps: 0.0006287848809733987\n",
            "Training Accuracy per 1000 steps: 100.0%\n",
            "The Total Accuracy for Epoch 8: 96.03508771929825\n",
            "Training Loss Epoch: 0.24380031911618166\n",
            "Training Accuracy Epoch: 96.03508771929825%\n",
            "=====================\n",
            "Training Loss per 1000 steps: 0.3507309556007385\n",
            "Training Accuracy per 1000 steps: 87.5%\n",
            "The Total Accuracy for Epoch 9: 95.36842105263158\n",
            "Training Loss Epoch: 0.26387068367837124\n",
            "Training Accuracy Epoch: 95.36842105263158%\n",
            "=====================\n",
            "Training Loss per 1000 steps: 0.0007054522866383195\n",
            "Training Accuracy per 1000 steps: 100.0%\n",
            "The Total Accuracy for Epoch 10: 94.14035087719299\n",
            "Training Loss Epoch: 0.5375839446458884\n",
            "Training Accuracy Epoch: 94.14035087719299%\n",
            "=====================\n",
            "Training Loss per 1000 steps: 0.03433830663561821\n",
            "Training Accuracy per 1000 steps: 100.0%\n",
            "The Total Accuracy for Epoch 11: 95.01754385964912\n",
            "Training Loss Epoch: 0.5147867136338885\n",
            "Training Accuracy Epoch: 95.01754385964912%\n",
            "=====================\n",
            "Training Loss per 1000 steps: 3.291285611339845e-05\n",
            "Training Accuracy per 1000 steps: 100.0%\n",
            "The Total Accuracy for Epoch 12: 96.63157894736842\n",
            "Training Loss Epoch: 0.21686115747177526\n",
            "Training Accuracy Epoch: 96.63157894736842%\n",
            "=====================\n",
            "Training Loss per 1000 steps: 6.137268792372197e-05\n",
            "Training Accuracy per 1000 steps: 100.0%\n",
            "The Total Accuracy for Epoch 13: 97.64912280701755\n",
            "Training Loss Epoch: 0.19097751980195032\n",
            "Training Accuracy Epoch: 97.64912280701755%\n",
            "=====================\n",
            "Training Loss per 1000 steps: 0.00012322286784183234\n",
            "Training Accuracy per 1000 steps: 100.0%\n",
            "The Total Accuracy for Epoch 14: 97.33333333333333\n",
            "Training Loss Epoch: 0.2595116218887659\n",
            "Training Accuracy Epoch: 97.33333333333333%\n",
            "=====================\n",
            "Training Loss per 1000 steps: 0.0003885168698616326\n",
            "Training Accuracy per 1000 steps: 100.0%\n",
            "The Total Accuracy for Epoch 15: 97.75438596491227\n",
            "Training Loss Epoch: 0.20510912428307138\n",
            "Training Accuracy Epoch: 97.75438596491227%\n",
            "=====================\n",
            "Training Loss per 1000 steps: 1.3002114295959473\n",
            "Training Accuracy per 1000 steps: 87.5%\n",
            "The Total Accuracy for Epoch 16: 94.0\n",
            "Training Loss Epoch: 0.8667729573808339\n",
            "Training Accuracy Epoch: 94.0%\n",
            "=====================\n",
            "Training Loss per 1000 steps: 0.001241230871528387\n",
            "Training Accuracy per 1000 steps: 100.0%\n",
            "The Total Accuracy for Epoch 17: 96.80701754385964\n",
            "Training Loss Epoch: 0.31265975302825383\n",
            "Training Accuracy Epoch: 96.80701754385964%\n",
            "=====================\n",
            "Training Loss per 1000 steps: 0.048538513481616974\n",
            "Training Accuracy per 1000 steps: 93.75%\n",
            "The Total Accuracy for Epoch 18: 96.14035087719299\n",
            "Training Loss Epoch: 0.4145987295510636\n",
            "Training Accuracy Epoch: 96.14035087719299%\n",
            "=====================\n",
            "Training Loss per 1000 steps: 0.07998718321323395\n",
            "Training Accuracy per 1000 steps: 93.75%\n",
            "The Total Accuracy for Epoch 19: 97.43859649122807\n",
            "Training Loss Epoch: 0.23929260483182954\n",
            "Training Accuracy Epoch: 97.43859649122807%\n",
            "=====================\n",
            "Training Loss per 1000 steps: 0.032449886202812195\n",
            "Training Accuracy per 1000 steps: 100.0%\n",
            "The Total Accuracy for Epoch 20: 98.14035087719299\n",
            "Training Loss Epoch: 0.14923185640511621\n",
            "Training Accuracy Epoch: 98.14035087719299%\n",
            "=====================\n",
            "Training Loss per 1000 steps: 5.960463056453591e-08\n",
            "Training Accuracy per 1000 steps: 100.0%\n",
            "The Total Accuracy for Epoch 21: 98.10526315789474\n",
            "Training Loss Epoch: 0.16583048170635215\n",
            "Training Accuracy Epoch: 98.10526315789474%\n",
            "=====================\n",
            "Training Loss per 1000 steps: 0.42679789662361145\n",
            "Training Accuracy per 1000 steps: 93.75%\n",
            "The Total Accuracy for Epoch 22: 97.71929824561404\n",
            "Training Loss Epoch: 0.21148690491914612\n",
            "Training Accuracy Epoch: 97.71929824561404%\n",
            "=====================\n",
            "Training Loss per 1000 steps: 0.9327527284622192\n",
            "Training Accuracy per 1000 steps: 93.75%\n",
            "The Total Accuracy for Epoch 23: 97.82456140350877\n",
            "Training Loss Epoch: 0.23167910958807214\n",
            "Training Accuracy Epoch: 97.82456140350877%\n",
            "=====================\n",
            "Training Loss per 1000 steps: 0.025087136775255203\n",
            "Training Accuracy per 1000 steps: 100.0%\n",
            "The Total Accuracy for Epoch 24: 97.2280701754386\n",
            "Training Loss Epoch: 0.28187430999849344\n",
            "Training Accuracy Epoch: 97.2280701754386%\n",
            "=====================\n",
            "Training Loss per 1000 steps: 9.424622476217337e-06\n",
            "Training Accuracy per 1000 steps: 100.0%\n",
            "The Total Accuracy for Epoch 25: 98.91228070175438\n",
            "Training Loss Epoch: 0.06780582746786906\n",
            "Training Accuracy Epoch: 98.91228070175438%\n",
            "=====================\n",
            "Training Loss per 1000 steps: 1.1175862368872913e-07\n",
            "Training Accuracy per 1000 steps: 100.0%\n",
            "The Total Accuracy for Epoch 26: 98.45614035087719\n",
            "Training Loss Epoch: 0.10247467436574678\n",
            "Training Accuracy Epoch: 98.45614035087719%\n",
            "=====================\n",
            "Training Loss per 1000 steps: 0.0012133271666243672\n",
            "Training Accuracy per 1000 steps: 100.0%\n",
            "The Total Accuracy for Epoch 27: 97.6140350877193\n",
            "Training Loss Epoch: 0.18855722361518934\n",
            "Training Accuracy Epoch: 97.6140350877193%\n",
            "=====================\n",
            "Training Loss per 1000 steps: 0.1948779672384262\n",
            "Training Accuracy per 1000 steps: 93.75%\n",
            "The Total Accuracy for Epoch 28: 97.82456140350877\n",
            "Training Loss Epoch: 0.23553518923330763\n",
            "Training Accuracy Epoch: 97.82456140350877%\n",
            "=====================\n",
            "Training Loss per 1000 steps: 0.0\n",
            "Training Accuracy per 1000 steps: 100.0%\n",
            "The Total Accuracy for Epoch 29: 97.54385964912281\n",
            "Training Loss Epoch: 0.27730712790384915\n",
            "Training Accuracy Epoch: 97.54385964912281%\n",
            "=====================\n",
            "Training Loss per 1000 steps: 2.3841403162805364e-06\n",
            "Training Accuracy per 1000 steps: 100.0%\n",
            "The Total Accuracy for Epoch 30: 98.14035087719299\n",
            "Training Loss Epoch: 0.1825278695641236\n",
            "Training Accuracy Epoch: 98.14035087719299%\n",
            "=====================\n",
            "Training Loss per 1000 steps: 0.0002607358037494123\n",
            "Training Accuracy per 1000 steps: 100.0%\n",
            "The Total Accuracy for Epoch 31: 97.9298245614035\n",
            "Training Loss Epoch: 0.1990260731369996\n",
            "Training Accuracy Epoch: 97.9298245614035%\n",
            "=====================\n",
            "Training Loss per 1000 steps: 0.00017819459026213735\n",
            "Training Accuracy per 1000 steps: 100.0%\n",
            "The Total Accuracy for Epoch 32: 98.28070175438596\n",
            "Training Loss Epoch: 0.1823468558562011\n",
            "Training Accuracy Epoch: 98.28070175438596%\n",
            "=====================\n",
            "Training Loss per 1000 steps: 4.894839548796881e-06\n",
            "Training Accuracy per 1000 steps: 100.0%\n",
            "The Total Accuracy for Epoch 33: 98.66666666666667\n",
            "Training Loss Epoch: 0.13774074187124355\n",
            "Training Accuracy Epoch: 98.66666666666667%\n",
            "=====================\n",
            "Training Loss per 1000 steps: 0.0\n",
            "Training Accuracy per 1000 steps: 100.0%\n",
            "The Total Accuracy for Epoch 34: 97.82456140350877\n",
            "Training Loss Epoch: 0.32062100322914017\n",
            "Training Accuracy Epoch: 97.82456140350877%\n",
            "=====================\n",
            "Training Loss per 1000 steps: 0.0\n",
            "Training Accuracy per 1000 steps: 100.0%\n",
            "The Total Accuracy for Epoch 35: 97.71929824561404\n",
            "Training Loss Epoch: 0.32696936113627884\n",
            "Training Accuracy Epoch: 97.71929824561404%\n",
            "=====================\n",
            "Training Loss per 1000 steps: 0.0\n",
            "Training Accuracy per 1000 steps: 100.0%\n",
            "The Total Accuracy for Epoch 36: 98.98245614035088\n",
            "Training Loss Epoch: 0.09713795423569868\n",
            "Training Accuracy Epoch: 98.98245614035088%\n",
            "=====================\n",
            "Training Loss per 1000 steps: 3.7252892326478104e-08\n",
            "Training Accuracy per 1000 steps: 100.0%\n",
            "The Total Accuracy for Epoch 37: 99.33333333333333\n",
            "Training Loss Epoch: 0.08037571415000752\n",
            "Training Accuracy Epoch: 99.33333333333333%\n",
            "=====================\n",
            "Training Loss per 1000 steps: 7.450580152834618e-09\n",
            "Training Accuracy per 1000 steps: 100.0%\n",
            "The Total Accuracy for Epoch 38: 99.33333333333333\n",
            "Training Loss Epoch: 0.07045206321788952\n",
            "Training Accuracy Epoch: 99.33333333333333%\n",
            "=====================\n",
            "Training Loss per 1000 steps: 0.006362501066178083\n",
            "Training Accuracy per 1000 steps: 100.0%\n",
            "The Total Accuracy for Epoch 39: 99.6842105263158\n",
            "Training Loss Epoch: 0.056749141206295386\n",
            "Training Accuracy Epoch: 99.6842105263158%\n",
            "=====================\n",
            "Training Loss per 1000 steps: 0.0\n",
            "Training Accuracy per 1000 steps: 100.0%\n",
            "The Total Accuracy for Epoch 40: 99.50877192982456\n",
            "Training Loss Epoch: 0.04227185824973263\n",
            "Training Accuracy Epoch: 99.50877192982456%\n",
            "=====================\n",
            "Training Loss per 1000 steps: 0.7538751363754272\n",
            "Training Accuracy per 1000 steps: 93.75%\n",
            "The Total Accuracy for Epoch 41: 98.42105263157895\n",
            "Training Loss Epoch: 0.16216580770858957\n",
            "Training Accuracy Epoch: 98.42105263157895%\n",
            "=====================\n",
            "Training Loss per 1000 steps: 0.15129290521144867\n",
            "Training Accuracy per 1000 steps: 93.75%\n",
            "The Total Accuracy for Epoch 42: 98.3157894736842\n",
            "Training Loss Epoch: 0.13938891738205006\n",
            "Training Accuracy Epoch: 98.3157894736842%\n",
            "=====================\n",
            "Training Loss per 1000 steps: 1.169735469375155e-06\n",
            "Training Accuracy per 1000 steps: 100.0%\n",
            "The Total Accuracy for Epoch 43: 98.84210526315789\n",
            "Training Loss Epoch: 0.15696572087254598\n",
            "Training Accuracy Epoch: 98.84210526315789%\n",
            "=====================\n",
            "Training Loss per 1000 steps: 0.0\n",
            "Training Accuracy per 1000 steps: 100.0%\n",
            "The Total Accuracy for Epoch 44: 98.66666666666667\n",
            "Training Loss Epoch: 0.19925037884486188\n",
            "Training Accuracy Epoch: 98.66666666666667%\n",
            "=====================\n",
            "Training Loss per 1000 steps: 0.04549463838338852\n",
            "Training Accuracy per 1000 steps: 100.0%\n",
            "The Total Accuracy for Epoch 45: 98.17543859649123\n",
            "Training Loss Epoch: 0.28837956792622504\n",
            "Training Accuracy Epoch: 98.17543859649123%\n",
            "=====================\n",
            "Training Loss per 1000 steps: 8.195632972274325e-08\n",
            "Training Accuracy per 1000 steps: 100.0%\n",
            "The Total Accuracy for Epoch 46: 98.17543859649123\n",
            "Training Loss Epoch: 0.244948058215307\n",
            "Training Accuracy Epoch: 98.17543859649123%\n",
            "=====================\n",
            "Training Loss per 1000 steps: 0.6180692315101624\n",
            "Training Accuracy per 1000 steps: 93.75%\n",
            "The Total Accuracy for Epoch 47: 99.01754385964912\n",
            "Training Loss Epoch: 0.08931848290029684\n",
            "Training Accuracy Epoch: 99.01754385964912%\n",
            "=====================\n",
            "Training Loss per 1000 steps: 1.4156088923300558e-07\n",
            "Training Accuracy per 1000 steps: 100.0%\n",
            "The Total Accuracy for Epoch 48: 98.3157894736842\n",
            "Training Loss Epoch: 0.18066491855707315\n",
            "Training Accuracy Epoch: 98.3157894736842%\n",
            "=====================\n",
            "Training Loss per 1000 steps: 3.3265438105445355e-05\n",
            "Training Accuracy per 1000 steps: 100.0%\n",
            "The Total Accuracy for Epoch 49: 99.05263157894737\n",
            "Training Loss Epoch: 0.06850844941765967\n",
            "Training Accuracy Epoch: 99.05263157894737%\n",
            "=====================\n"
          ]
        },
        {
          "output_type": "display_data",
          "data": {
            "text/plain": "<Figure size 432x288 with 1 Axes>",
            "image/svg+xml": "<?xml version=\"1.0\" encoding=\"utf-8\" standalone=\"no\"?>\n<!DOCTYPE svg PUBLIC \"-//W3C//DTD SVG 1.1//EN\"\n  \"http://www.w3.org/Graphics/SVG/1.1/DTD/svg11.dtd\">\n<!-- Created with matplotlib (https://matplotlib.org/) -->\n<svg height=\"248.518125pt\" version=\"1.1\" viewBox=\"0 0 375.2875 248.518125\" width=\"375.2875pt\" xmlns=\"http://www.w3.org/2000/svg\" xmlns:xlink=\"http://www.w3.org/1999/xlink\">\n <metadata>\n  <rdf:RDF xmlns:cc=\"http://creativecommons.org/ns#\" xmlns:dc=\"http://purl.org/dc/elements/1.1/\" xmlns:rdf=\"http://www.w3.org/1999/02/22-rdf-syntax-ns#\">\n   <cc:Work>\n    <dc:type rdf:resource=\"http://purl.org/dc/dcmitype/StillImage\"/>\n    <dc:date>2021-01-12T13:22:47.054294</dc:date>\n    <dc:format>image/svg+xml</dc:format>\n    <dc:creator>\n     <cc:Agent>\n      <dc:title>Matplotlib v3.3.3, https://matplotlib.org/</dc:title>\n     </cc:Agent>\n    </dc:creator>\n   </cc:Work>\n  </rdf:RDF>\n </metadata>\n <defs>\n  <style type=\"text/css\">*{stroke-linecap:butt;stroke-linejoin:round;}</style>\n </defs>\n <g id=\"figure_1\">\n  <g id=\"patch_1\">\n   <path d=\"M 0 248.518125 \nL 375.2875 248.518125 \nL 375.2875 0 \nL 0 0 \nz\n\" style=\"fill:none;\"/>\n  </g>\n  <g id=\"axes_1\">\n   <g id=\"patch_2\">\n    <path d=\"M 33.2875 224.64 \nL 368.0875 224.64 \nL 368.0875 7.2 \nL 33.2875 7.2 \nz\n\" style=\"fill:#ffffff;\"/>\n   </g>\n   <g id=\"matplotlib.axis_1\">\n    <g id=\"xtick_1\">\n     <g id=\"line2d_1\">\n      <defs>\n       <path d=\"M 0 0 \nL 0 3.5 \n\" id=\"mbb32c11811\" style=\"stroke:#000000;stroke-width:0.8;\"/>\n      </defs>\n      <g>\n       <use style=\"stroke:#000000;stroke-width:0.8;\" x=\"48.505682\" xlink:href=\"#mbb32c11811\" y=\"224.64\"/>\n      </g>\n     </g>\n     <g id=\"text_1\">\n      <!-- 0 -->\n      <g transform=\"translate(45.324432 239.238437)scale(0.1 -0.1)\">\n       <defs>\n        <path d=\"M 31.78125 66.40625 \nQ 24.171875 66.40625 20.328125 58.90625 \nQ 16.5 51.421875 16.5 36.375 \nQ 16.5 21.390625 20.328125 13.890625 \nQ 24.171875 6.390625 31.78125 6.390625 \nQ 39.453125 6.390625 43.28125 13.890625 \nQ 47.125 21.390625 47.125 36.375 \nQ 47.125 51.421875 43.28125 58.90625 \nQ 39.453125 66.40625 31.78125 66.40625 \nz\nM 31.78125 74.21875 \nQ 44.046875 74.21875 50.515625 64.515625 \nQ 56.984375 54.828125 56.984375 36.375 \nQ 56.984375 17.96875 50.515625 8.265625 \nQ 44.046875 -1.421875 31.78125 -1.421875 \nQ 19.53125 -1.421875 13.0625 8.265625 \nQ 6.59375 17.96875 6.59375 36.375 \nQ 6.59375 54.828125 13.0625 64.515625 \nQ 19.53125 74.21875 31.78125 74.21875 \nz\n\" id=\"DejaVuSans-48\"/>\n       </defs>\n       <use xlink:href=\"#DejaVuSans-48\"/>\n      </g>\n     </g>\n    </g>\n    <g id=\"xtick_2\">\n     <g id=\"line2d_2\">\n      <g>\n       <use style=\"stroke:#000000;stroke-width:0.8;\" x=\"110.62071\" xlink:href=\"#mbb32c11811\" y=\"224.64\"/>\n      </g>\n     </g>\n     <g id=\"text_2\">\n      <!-- 10 -->\n      <g transform=\"translate(104.25821 239.238437)scale(0.1 -0.1)\">\n       <defs>\n        <path d=\"M 12.40625 8.296875 \nL 28.515625 8.296875 \nL 28.515625 63.921875 \nL 10.984375 60.40625 \nL 10.984375 69.390625 \nL 28.421875 72.90625 \nL 38.28125 72.90625 \nL 38.28125 8.296875 \nL 54.390625 8.296875 \nL 54.390625 0 \nL 12.40625 0 \nz\n\" id=\"DejaVuSans-49\"/>\n       </defs>\n       <use xlink:href=\"#DejaVuSans-49\"/>\n       <use x=\"63.623047\" xlink:href=\"#DejaVuSans-48\"/>\n      </g>\n     </g>\n    </g>\n    <g id=\"xtick_3\">\n     <g id=\"line2d_3\">\n      <g>\n       <use style=\"stroke:#000000;stroke-width:0.8;\" x=\"172.735737\" xlink:href=\"#mbb32c11811\" y=\"224.64\"/>\n      </g>\n     </g>\n     <g id=\"text_3\">\n      <!-- 20 -->\n      <g transform=\"translate(166.373237 239.238437)scale(0.1 -0.1)\">\n       <defs>\n        <path d=\"M 19.1875 8.296875 \nL 53.609375 8.296875 \nL 53.609375 0 \nL 7.328125 0 \nL 7.328125 8.296875 \nQ 12.9375 14.109375 22.625 23.890625 \nQ 32.328125 33.6875 34.8125 36.53125 \nQ 39.546875 41.84375 41.421875 45.53125 \nQ 43.3125 49.21875 43.3125 52.78125 \nQ 43.3125 58.59375 39.234375 62.25 \nQ 35.15625 65.921875 28.609375 65.921875 \nQ 23.96875 65.921875 18.8125 64.3125 \nQ 13.671875 62.703125 7.8125 59.421875 \nL 7.8125 69.390625 \nQ 13.765625 71.78125 18.9375 73 \nQ 24.125 74.21875 28.421875 74.21875 \nQ 39.75 74.21875 46.484375 68.546875 \nQ 53.21875 62.890625 53.21875 53.421875 \nQ 53.21875 48.921875 51.53125 44.890625 \nQ 49.859375 40.875 45.40625 35.40625 \nQ 44.1875 33.984375 37.640625 27.21875 \nQ 31.109375 20.453125 19.1875 8.296875 \nz\n\" id=\"DejaVuSans-50\"/>\n       </defs>\n       <use xlink:href=\"#DejaVuSans-50\"/>\n       <use x=\"63.623047\" xlink:href=\"#DejaVuSans-48\"/>\n      </g>\n     </g>\n    </g>\n    <g id=\"xtick_4\">\n     <g id=\"line2d_4\">\n      <g>\n       <use style=\"stroke:#000000;stroke-width:0.8;\" x=\"234.850765\" xlink:href=\"#mbb32c11811\" y=\"224.64\"/>\n      </g>\n     </g>\n     <g id=\"text_4\">\n      <!-- 30 -->\n      <g transform=\"translate(228.488265 239.238437)scale(0.1 -0.1)\">\n       <defs>\n        <path d=\"M 40.578125 39.3125 \nQ 47.65625 37.796875 51.625 33 \nQ 55.609375 28.21875 55.609375 21.1875 \nQ 55.609375 10.40625 48.1875 4.484375 \nQ 40.765625 -1.421875 27.09375 -1.421875 \nQ 22.515625 -1.421875 17.65625 -0.515625 \nQ 12.796875 0.390625 7.625 2.203125 \nL 7.625 11.71875 \nQ 11.71875 9.328125 16.59375 8.109375 \nQ 21.484375 6.890625 26.8125 6.890625 \nQ 36.078125 6.890625 40.9375 10.546875 \nQ 45.796875 14.203125 45.796875 21.1875 \nQ 45.796875 27.640625 41.28125 31.265625 \nQ 36.765625 34.90625 28.71875 34.90625 \nL 20.21875 34.90625 \nL 20.21875 43.015625 \nL 29.109375 43.015625 \nQ 36.375 43.015625 40.234375 45.921875 \nQ 44.09375 48.828125 44.09375 54.296875 \nQ 44.09375 59.90625 40.109375 62.90625 \nQ 36.140625 65.921875 28.71875 65.921875 \nQ 24.65625 65.921875 20.015625 65.03125 \nQ 15.375 64.15625 9.8125 62.3125 \nL 9.8125 71.09375 \nQ 15.4375 72.65625 20.34375 73.4375 \nQ 25.25 74.21875 29.59375 74.21875 \nQ 40.828125 74.21875 47.359375 69.109375 \nQ 53.90625 64.015625 53.90625 55.328125 \nQ 53.90625 49.265625 50.4375 45.09375 \nQ 46.96875 40.921875 40.578125 39.3125 \nz\n\" id=\"DejaVuSans-51\"/>\n       </defs>\n       <use xlink:href=\"#DejaVuSans-51\"/>\n       <use x=\"63.623047\" xlink:href=\"#DejaVuSans-48\"/>\n      </g>\n     </g>\n    </g>\n    <g id=\"xtick_5\">\n     <g id=\"line2d_5\">\n      <g>\n       <use style=\"stroke:#000000;stroke-width:0.8;\" x=\"296.965793\" xlink:href=\"#mbb32c11811\" y=\"224.64\"/>\n      </g>\n     </g>\n     <g id=\"text_5\">\n      <!-- 40 -->\n      <g transform=\"translate(290.603293 239.238437)scale(0.1 -0.1)\">\n       <defs>\n        <path d=\"M 37.796875 64.3125 \nL 12.890625 25.390625 \nL 37.796875 25.390625 \nz\nM 35.203125 72.90625 \nL 47.609375 72.90625 \nL 47.609375 25.390625 \nL 58.015625 25.390625 \nL 58.015625 17.1875 \nL 47.609375 17.1875 \nL 47.609375 0 \nL 37.796875 0 \nL 37.796875 17.1875 \nL 4.890625 17.1875 \nL 4.890625 26.703125 \nz\n\" id=\"DejaVuSans-52\"/>\n       </defs>\n       <use xlink:href=\"#DejaVuSans-52\"/>\n       <use x=\"63.623047\" xlink:href=\"#DejaVuSans-48\"/>\n      </g>\n     </g>\n    </g>\n    <g id=\"xtick_6\">\n     <g id=\"line2d_6\">\n      <g>\n       <use style=\"stroke:#000000;stroke-width:0.8;\" x=\"359.080821\" xlink:href=\"#mbb32c11811\" y=\"224.64\"/>\n      </g>\n     </g>\n     <g id=\"text_6\">\n      <!-- 50 -->\n      <g transform=\"translate(352.718321 239.238437)scale(0.1 -0.1)\">\n       <defs>\n        <path d=\"M 10.796875 72.90625 \nL 49.515625 72.90625 \nL 49.515625 64.59375 \nL 19.828125 64.59375 \nL 19.828125 46.734375 \nQ 21.96875 47.46875 24.109375 47.828125 \nQ 26.265625 48.1875 28.421875 48.1875 \nQ 40.625 48.1875 47.75 41.5 \nQ 54.890625 34.8125 54.890625 23.390625 \nQ 54.890625 11.625 47.5625 5.09375 \nQ 40.234375 -1.421875 26.90625 -1.421875 \nQ 22.3125 -1.421875 17.546875 -0.640625 \nQ 12.796875 0.140625 7.71875 1.703125 \nL 7.71875 11.625 \nQ 12.109375 9.234375 16.796875 8.0625 \nQ 21.484375 6.890625 26.703125 6.890625 \nQ 35.15625 6.890625 40.078125 11.328125 \nQ 45.015625 15.765625 45.015625 23.390625 \nQ 45.015625 31 40.078125 35.4375 \nQ 35.15625 39.890625 26.703125 39.890625 \nQ 22.75 39.890625 18.8125 39.015625 \nQ 14.890625 38.140625 10.796875 36.28125 \nz\n\" id=\"DejaVuSans-53\"/>\n       </defs>\n       <use xlink:href=\"#DejaVuSans-53\"/>\n       <use x=\"63.623047\" xlink:href=\"#DejaVuSans-48\"/>\n      </g>\n     </g>\n    </g>\n   </g>\n   <g id=\"matplotlib.axis_2\">\n    <g id=\"ytick_1\">\n     <g id=\"line2d_7\">\n      <defs>\n       <path d=\"M 0 0 \nL -3.5 0 \n\" id=\"m19d062b1ab\" style=\"stroke:#000000;stroke-width:0.8;\"/>\n      </defs>\n      <g>\n       <use style=\"stroke:#000000;stroke-width:0.8;\" x=\"33.2875\" xlink:href=\"#m19d062b1ab\" y=\"214.840224\"/>\n      </g>\n     </g>\n     <g id=\"text_7\">\n      <!-- 0 -->\n      <g transform=\"translate(19.925 218.639443)scale(0.1 -0.1)\">\n       <use xlink:href=\"#DejaVuSans-48\"/>\n      </g>\n     </g>\n    </g>\n    <g id=\"ytick_2\">\n     <g id=\"line2d_8\">\n      <g>\n       <use style=\"stroke:#000000;stroke-width:0.8;\" x=\"33.2875\" xlink:href=\"#m19d062b1ab\" y=\"175.163612\"/>\n      </g>\n     </g>\n     <g id=\"text_8\">\n      <!-- 20 -->\n      <g transform=\"translate(13.5625 178.962831)scale(0.1 -0.1)\">\n       <use xlink:href=\"#DejaVuSans-50\"/>\n       <use x=\"63.623047\" xlink:href=\"#DejaVuSans-48\"/>\n      </g>\n     </g>\n    </g>\n    <g id=\"ytick_3\">\n     <g id=\"line2d_9\">\n      <g>\n       <use style=\"stroke:#000000;stroke-width:0.8;\" x=\"33.2875\" xlink:href=\"#m19d062b1ab\" y=\"135.487\"/>\n      </g>\n     </g>\n     <g id=\"text_9\">\n      <!-- 40 -->\n      <g transform=\"translate(13.5625 139.286218)scale(0.1 -0.1)\">\n       <use xlink:href=\"#DejaVuSans-52\"/>\n       <use x=\"63.623047\" xlink:href=\"#DejaVuSans-48\"/>\n      </g>\n     </g>\n    </g>\n    <g id=\"ytick_4\">\n     <g id=\"line2d_10\">\n      <g>\n       <use style=\"stroke:#000000;stroke-width:0.8;\" x=\"33.2875\" xlink:href=\"#m19d062b1ab\" y=\"95.810388\"/>\n      </g>\n     </g>\n     <g id=\"text_10\">\n      <!-- 60 -->\n      <g transform=\"translate(13.5625 99.609606)scale(0.1 -0.1)\">\n       <defs>\n        <path d=\"M 33.015625 40.375 \nQ 26.375 40.375 22.484375 35.828125 \nQ 18.609375 31.296875 18.609375 23.390625 \nQ 18.609375 15.53125 22.484375 10.953125 \nQ 26.375 6.390625 33.015625 6.390625 \nQ 39.65625 6.390625 43.53125 10.953125 \nQ 47.40625 15.53125 47.40625 23.390625 \nQ 47.40625 31.296875 43.53125 35.828125 \nQ 39.65625 40.375 33.015625 40.375 \nz\nM 52.59375 71.296875 \nL 52.59375 62.3125 \nQ 48.875 64.0625 45.09375 64.984375 \nQ 41.3125 65.921875 37.59375 65.921875 \nQ 27.828125 65.921875 22.671875 59.328125 \nQ 17.53125 52.734375 16.796875 39.40625 \nQ 19.671875 43.65625 24.015625 45.921875 \nQ 28.375 48.1875 33.59375 48.1875 \nQ 44.578125 48.1875 50.953125 41.515625 \nQ 57.328125 34.859375 57.328125 23.390625 \nQ 57.328125 12.15625 50.6875 5.359375 \nQ 44.046875 -1.421875 33.015625 -1.421875 \nQ 20.359375 -1.421875 13.671875 8.265625 \nQ 6.984375 17.96875 6.984375 36.375 \nQ 6.984375 53.65625 15.1875 63.9375 \nQ 23.390625 74.21875 37.203125 74.21875 \nQ 40.921875 74.21875 44.703125 73.484375 \nQ 48.484375 72.75 52.59375 71.296875 \nz\n\" id=\"DejaVuSans-54\"/>\n       </defs>\n       <use xlink:href=\"#DejaVuSans-54\"/>\n       <use x=\"63.623047\" xlink:href=\"#DejaVuSans-48\"/>\n      </g>\n     </g>\n    </g>\n    <g id=\"ytick_5\">\n     <g id=\"line2d_11\">\n      <g>\n       <use style=\"stroke:#000000;stroke-width:0.8;\" x=\"33.2875\" xlink:href=\"#m19d062b1ab\" y=\"56.133776\"/>\n      </g>\n     </g>\n     <g id=\"text_11\">\n      <!-- 80 -->\n      <g transform=\"translate(13.5625 59.932994)scale(0.1 -0.1)\">\n       <defs>\n        <path d=\"M 31.78125 34.625 \nQ 24.75 34.625 20.71875 30.859375 \nQ 16.703125 27.09375 16.703125 20.515625 \nQ 16.703125 13.921875 20.71875 10.15625 \nQ 24.75 6.390625 31.78125 6.390625 \nQ 38.8125 6.390625 42.859375 10.171875 \nQ 46.921875 13.96875 46.921875 20.515625 \nQ 46.921875 27.09375 42.890625 30.859375 \nQ 38.875 34.625 31.78125 34.625 \nz\nM 21.921875 38.8125 \nQ 15.578125 40.375 12.03125 44.71875 \nQ 8.5 49.078125 8.5 55.328125 \nQ 8.5 64.0625 14.71875 69.140625 \nQ 20.953125 74.21875 31.78125 74.21875 \nQ 42.671875 74.21875 48.875 69.140625 \nQ 55.078125 64.0625 55.078125 55.328125 \nQ 55.078125 49.078125 51.53125 44.71875 \nQ 48 40.375 41.703125 38.8125 \nQ 48.828125 37.15625 52.796875 32.3125 \nQ 56.78125 27.484375 56.78125 20.515625 \nQ 56.78125 9.90625 50.3125 4.234375 \nQ 43.84375 -1.421875 31.78125 -1.421875 \nQ 19.734375 -1.421875 13.25 4.234375 \nQ 6.78125 9.90625 6.78125 20.515625 \nQ 6.78125 27.484375 10.78125 32.3125 \nQ 14.796875 37.15625 21.921875 38.8125 \nz\nM 18.3125 54.390625 \nQ 18.3125 48.734375 21.84375 45.5625 \nQ 25.390625 42.390625 31.78125 42.390625 \nQ 38.140625 42.390625 41.71875 45.5625 \nQ 45.3125 48.734375 45.3125 54.390625 \nQ 45.3125 60.0625 41.71875 63.234375 \nQ 38.140625 66.40625 31.78125 66.40625 \nQ 25.390625 66.40625 21.84375 63.234375 \nQ 18.3125 60.0625 18.3125 54.390625 \nz\n\" id=\"DejaVuSans-56\"/>\n       </defs>\n       <use xlink:href=\"#DejaVuSans-56\"/>\n       <use x=\"63.623047\" xlink:href=\"#DejaVuSans-48\"/>\n      </g>\n     </g>\n    </g>\n    <g id=\"ytick_6\">\n     <g id=\"line2d_12\">\n      <g>\n       <use style=\"stroke:#000000;stroke-width:0.8;\" x=\"33.2875\" xlink:href=\"#m19d062b1ab\" y=\"16.457164\"/>\n      </g>\n     </g>\n     <g id=\"text_12\">\n      <!-- 100 -->\n      <g transform=\"translate(7.2 20.256382)scale(0.1 -0.1)\">\n       <use xlink:href=\"#DejaVuSans-49\"/>\n       <use x=\"63.623047\" xlink:href=\"#DejaVuSans-48\"/>\n       <use x=\"127.246094\" xlink:href=\"#DejaVuSans-48\"/>\n      </g>\n     </g>\n    </g>\n   </g>\n   <g id=\"line2d_13\">\n    <path clip-path=\"url(#p1d91dc0531)\" d=\"M 48.505682 203.002725 \nL 54.717185 211.463808 \nL 60.928687 212.824304 \nL 67.14019 213.602913 \nL 73.351693 213.902614 \nL 79.563196 213.929036 \nL 85.774699 214.308021 \nL 91.986201 214.338763 \nL 98.197704 214.356565 \nL 104.409207 214.316749 \nL 110.62071 213.773748 \nL 116.832212 213.818974 \nL 123.043715 214.410008 \nL 129.255218 214.461357 \nL 135.466721 214.325397 \nL 141.678224 214.433322 \nL 147.889726 213.120693 \nL 154.101229 214.21996 \nL 160.312732 214.01773 \nL 166.524235 214.365508 \nL 172.735737 214.544173 \nL 178.94724 214.511244 \nL 185.158743 214.42067 \nL 191.370246 214.380612 \nL 197.581749 214.281033 \nL 203.793251 214.705709 \nL 210.004754 214.636931 \nL 216.216257 214.466158 \nL 222.42776 214.372962 \nL 228.639263 214.290093 \nL 234.850765 214.478119 \nL 241.062268 214.44539 \nL 247.273771 214.478479 \nL 253.485274 214.56697 \nL 259.696776 214.204166 \nL 265.908279 214.191572 \nL 272.119782 214.647519 \nL 278.331285 214.680772 \nL 284.542788 214.700459 \nL 290.75429 214.727643 \nL 296.965793 214.756364 \nL 303.177296 214.518514 \nL 309.388799 214.5637 \nL 315.600301 214.52883 \nL 321.811804 214.444945 \nL 328.023307 214.268128 \nL 334.23481 214.354288 \nL 340.446313 214.663031 \nL 346.657815 214.481815 \nL 352.869318 214.704315 \n\" style=\"fill:none;stroke:#1f77b4;stroke-linecap:square;stroke-width:1.5;\"/>\n   </g>\n   <g id=\"line2d_14\">\n    <path clip-path=\"url(#p1d91dc0531)\" d=\"M 48.505682 110.845735 \nL 54.717185 54.323965 \nL 60.928687 45.066089 \nL 67.14019 36.29547 \nL 73.351693 30.726822 \nL 79.563196 31.283687 \nL 85.774699 25.784648 \nL 91.986201 23.905229 \nL 98.197704 24.322878 \nL 104.409207 25.645432 \nL 110.62071 28.081715 \nL 116.832212 26.341513 \nL 123.043715 23.13954 \nL 129.255218 21.120906 \nL 135.466721 21.747378 \nL 141.678224 20.912081 \nL 147.889726 28.360147 \nL 154.101229 22.7915 \nL 160.312732 24.114054 \nL 166.524235 21.538554 \nL 172.735737 20.146392 \nL 178.94724 20.216 \nL 185.158743 20.981689 \nL 191.370246 20.772865 \nL 197.581749 21.956203 \nL 203.793251 18.615014 \nL 210.004754 19.51992 \nL 216.216257 21.190514 \nL 222.42776 20.772865 \nL 228.639263 21.32973 \nL 234.850765 20.146392 \nL 241.062268 20.564041 \nL 247.273771 19.86796 \nL 253.485274 19.102271 \nL 259.696776 20.772865 \nL 265.908279 20.981689 \nL 272.119782 18.475798 \nL 278.331285 17.779717 \nL 284.542788 17.779717 \nL 290.75429 17.083636 \nL 296.965793 17.431677 \nL 303.177296 19.589528 \nL 309.388799 19.798352 \nL 315.600301 18.754231 \nL 321.811804 19.102271 \nL 328.023307 20.076784 \nL 334.23481 20.076784 \nL 340.446313 18.40619 \nL 346.657815 19.798352 \nL 352.869318 18.336582 \n\" style=\"fill:none;stroke:#ff7f0e;stroke-linecap:square;stroke-width:1.5;\"/>\n   </g>\n   <g id=\"patch_3\">\n    <path d=\"M 33.2875 224.64 \nL 33.2875 7.2 \n\" style=\"fill:none;stroke:#000000;stroke-linecap:square;stroke-linejoin:miter;stroke-width:0.8;\"/>\n   </g>\n   <g id=\"patch_4\">\n    <path d=\"M 368.0875 224.64 \nL 368.0875 7.2 \n\" style=\"fill:none;stroke:#000000;stroke-linecap:square;stroke-linejoin:miter;stroke-width:0.8;\"/>\n   </g>\n   <g id=\"patch_5\">\n    <path d=\"M 33.2875 224.64 \nL 368.0875 224.64 \n\" style=\"fill:none;stroke:#000000;stroke-linecap:square;stroke-linejoin:miter;stroke-width:0.8;\"/>\n   </g>\n   <g id=\"patch_6\">\n    <path d=\"M 33.2875 7.2 \nL 368.0875 7.2 \n\" style=\"fill:none;stroke:#000000;stroke-linecap:square;stroke-linejoin:miter;stroke-width:0.8;\"/>\n   </g>\n  </g>\n </g>\n <defs>\n  <clipPath id=\"p1d91dc0531\">\n   <rect height=\"217.44\" width=\"334.8\" x=\"33.2875\" y=\"7.2\"/>\n  </clipPath>\n </defs>\n</svg>\n",
            "image/png": "[encoded data removed]"
          },
          "metadata": {
            "needs_background": "light"
          }
        }
      ]
    },
    {
      "cell_type": "code",
      "metadata": {
        "id": "1Ypwsf8MJ-7g"
      },
      "source": [
        "from sklearn.metrics import f1_score\n",
        "\n",
        "def valid(model, test_iter):\n",
        "    model.eval()\n",
        "    tr_loss = 0\n",
        "    n_correct = 0 \n",
        "    n_wrong = 0\n",
        "    total = 0\n",
        "    nb_tr_steps = 0\n",
        "    nb_tr_examples = 0\n",
        "    f1 = 0.0\n",
        "    f1_scores = []\n",
        "    targets_list = []\n",
        "    big_idx_list = []\n",
        "    with torch.no_grad():\n",
        "        for _, batch in enumerate(test_iter, 0):\n",
        "\n",
        "            targets = batch.label.to(device, dtype = torch.long)\n",
        "            targets_list.extend(targets)\n",
        "            # print(targets)\n",
        "            outputs = model(batch.text.T).squeeze()\n",
        "            # print(outputs)\n",
        "            # \n",
        "            loss = loss_function(outputs, targets)\n",
        "            tr_loss += loss.item()\n",
        "            big_val, big_idx = torch.max(outputs.data, dim=1)\n",
        "            big_idx_list.extend(big_idx)\n",
        "            n_correct += calcuate_accu(big_idx, targets)\n",
        "\n",
        "            nb_tr_steps += 1\n",
        "            nb_tr_examples += targets.size(0)\n",
        "            \n",
        "            if _% 10 == 0:\n",
        "                loss_step = tr_loss/nb_tr_steps\n",
        "                accu_step = (n_correct * 100) / nb_tr_examples\n",
        "                print(f\"Validation Loss per 10 steps: {loss_step}\")\n",
        "                print(f\"Validation Accuracy per 10 steps: {accu_step}%\")\n",
        "    epoch_loss = tr_loss / nb_tr_steps\n",
        "    epoch_accu = (n_correct * 100) /nb_tr_examples\n",
        "    f1 = f1_score(targets_list, big_idx_list, average='macro')\n",
        "    print(f\"Validation Loss Epoch: {epoch_loss}\")\n",
        "    print(f\"Validation Accuracy Epoch: {epoch_accu}%\")\n",
        "\n",
        "    return epoch_accu, f1\n"
      ],
      "execution_count": 14,
      "outputs": []
    },
    {
      "cell_type": "code",
      "metadata": {
        "colab": {
          "base_uri": "https://localhost:8080/"
        },
        "id": "VMNU8C6uN_yW",
        "outputId": "262efd45-ba48-48e8-fe44-f82c0eb3dbc5",
        "tags": []
      },
      "source": [
        "acc, f1 = valid(model, test_iter)\n",
        "print(\"Accuracy on test data = %0.2f%%\" % acc)\n",
        "print(f\"Marco F1 score: {f1}\")"
      ],
      "execution_count": 15,
      "outputs": [
        {
          "output_type": "stream",
          "name": "stdout",
          "text": [
            "Validation Loss per 10 steps: 4.781060218811035\nValidation Accuracy per 10 steps: 75.0%\nValidation Loss per 10 steps: 14.665742592350403\nValidation Accuracy per 10 steps: 78.4090909090909%\nValidation Loss per 10 steps: 17.58015831310093\nValidation Accuracy per 10 steps: 74.4047619047619%\nValidation Loss per 10 steps: 20.919041733578112\nValidation Accuracy per 10 steps: 72.1774193548387%\nValidation Loss per 10 steps: 19.923817946772587\nValidation Accuracy per 10 steps: 71.64634146341463%\nValidation Loss per 10 steps: 20.96706506054178\nValidation Accuracy per 10 steps: 70.83333333333333%\nValidation Loss per 10 steps: 22.39037223495654\nValidation Accuracy per 10 steps: 69.67213114754098%\nValidation Loss per 10 steps: 22.139217210220945\nValidation Accuracy per 10 steps: 70.59859154929578%\nValidation Loss per 10 steps: 24.43532047866479\nValidation Accuracy per 10 steps: 67.90123456790124%\nValidation Loss Epoch: 25.606885118218212\nValidation Accuracy Epoch: 66.85393258426966%\nAccuracy on test data = 66.85%\nMarco F1 score: 0.6127711928261684\n"
          ]
        }
      ]
    },
    {
      "cell_type": "code",
      "execution_count": 16,
      "metadata": {},
      "outputs": [
        {
          "output_type": "stream",
          "name": "stdout",
          "text": [
            "All files saved\n"
          ]
        }
      ],
      "source": [
        "output_model_file = '../models/pytorch_w2v_model.bin'\n",
        "\n",
        "model_to_save = model\n",
        "torch.save(model_to_save, output_model_file)\n",
        "\n",
        "print('All files saved')"
      ]
    },
    {
      "cell_type": "code",
      "execution_count": 17,
      "metadata": {},
      "outputs": [
        {
          "output_type": "execute_result",
          "data": {
            "text/plain": [
              "                                                text  label\n",
              "0      if you have time, can you correct the titles?    3.0\n",
              "1  i had really hoped to get some more opinions o...    6.0\n",
              "2      i modified it a bit, possibly vote to reopen?    6.0\n",
              "3  well the only plausible explanation was that y...    1.0\n",
              "4                      is that what indeed occurred?    1.0"
            ],
            "text/html": "<div>\n<style scoped>\n    .dataframe tbody tr th:only-of-type {\n        vertical-align: middle;\n    }\n\n    .dataframe tbody tr th {\n        vertical-align: top;\n    }\n\n    .dataframe thead th {\n        text-align: right;\n    }\n</style>\n<table border=\"1\" class=\"dataframe\">\n  <thead>\n    <tr style=\"text-align: right;\">\n      <th></th>\n      <th>text</th>\n      <th>label</th>\n    </tr>\n  </thead>\n  <tbody>\n    <tr>\n      <th>0</th>\n      <td>if you have time, can you correct the titles?</td>\n      <td>3.0</td>\n    </tr>\n    <tr>\n      <th>1</th>\n      <td>i had really hoped to get some more opinions o...</td>\n      <td>6.0</td>\n    </tr>\n    <tr>\n      <th>2</th>\n      <td>i modified it a bit, possibly vote to reopen?</td>\n      <td>6.0</td>\n    </tr>\n    <tr>\n      <th>3</th>\n      <td>well the only plausible explanation was that y...</td>\n      <td>1.0</td>\n    </tr>\n    <tr>\n      <th>4</th>\n      <td>is that what indeed occurred?</td>\n      <td>1.0</td>\n    </tr>\n  </tbody>\n</table>\n</div>"
          },
          "metadata": {},
          "execution_count": 17
        }
      ],
      "source": [
        "# human annotated testset\n",
        "df = pd.read_csv(\"../data/testset_human.csv\", index_col=False)\n",
        "df.head()"
      ]
    },
    {
      "cell_type": "code",
      "execution_count": 18,
      "metadata": {},
      "outputs": [],
      "source": [
        "testset = DataFrameDataset(\n",
        "    df=df, \n",
        "    fields=(\n",
        "        ('text', TEXT),\n",
        "        ('label', LABEL)\n",
        "    )\n",
        ")"
      ]
    },
    {
      "cell_type": "code",
      "execution_count": 19,
      "metadata": {},
      "outputs": [],
      "source": [
        "test_iter = BucketIterator(testset, batch_size=5, sort=False)"
      ]
    },
    {
      "cell_type": "code",
      "execution_count": 20,
      "metadata": {},
      "outputs": [
        {
          "output_type": "stream",
          "name": "stdout",
          "text": [
            "Validation Loss per 10 steps: 85.3056869506836\nValidation Accuracy per 10 steps: 20.0%\nValidation Loss per 10 steps: 131.82897324995562\nValidation Accuracy per 10 steps: 9.615384615384615%\nValidation Loss Epoch: 131.82897324995562\nValidation Accuracy Epoch: 9.615384615384615%\nAccuracy on test data = 9.62%\nMarco F1 score: 0.06176900584795321\n"
          ]
        }
      ],
      "source": [
        "acc, f1 = valid(model, test_iter)\n",
        "print(\"Accuracy on test data = %0.2f%%\" % acc)\n",
        "print(f\"Marco F1 score: {f1}\")"
      ]
    },
    {
      "cell_type": "code",
      "execution_count": null,
      "metadata": {},
      "outputs": [],
      "source": []
    }
  ]
}